{
 "cells": [
  {
   "cell_type": "code",
   "execution_count": 429,
   "metadata": {},
   "outputs": [],
   "source": [
    "#import Machine learning packages\n",
    "import pandas as pd\n",
    "import numpy as np\n",
    "import matplotlib.pyplot as plt\n",
    "from sklearn.preprocessing import *\n",
    "from sklearn.impute import *"
   ]
  },
  {
   "cell_type": "code",
   "execution_count": 498,
   "metadata": {},
   "outputs": [
    {
     "data": {
      "text/plain": [
       "array([['France', 44.0, 72000.0],\n",
       "       ['Spain', 27.0, 48000.0],\n",
       "       ['Germany', 30.0, 54000.0],\n",
       "       ['Spain', 38.0, 61000.0],\n",
       "       ['Germany', 40.0, nan],\n",
       "       ['France', 35.0, 58000.0],\n",
       "       ['Spain', nan, 52000.0],\n",
       "       ['France', 48.0, 79000.0],\n",
       "       ['Germany', 50.0, 83000.0],\n",
       "       ['France', 57.0, 67000.0]], dtype=object)"
      ]
     },
     "execution_count": 498,
     "metadata": {},
     "output_type": "execute_result"
    }
   ],
   "source": [
    "#importing data\n",
    "data_set = pd.read_csv('data.csv')\n",
    "# independent feature\n",
    "X = data_set.iloc[:,:-1].values\n",
    "# dependent features\n",
    "y = data_set.iloc[:,3].values\n",
    "X"
   ]
  },
  {
   "cell_type": "code",
   "execution_count": 499,
   "metadata": {},
   "outputs": [],
   "source": [
    "# Fixing missing values\n",
    "imputer = SimpleImputer(missing_values=np.nan ,strategy=\"mean\")\n",
    "imputer = imputer.fit(X[:,1:3])\n",
    "X[:,1:3] = imputer.transform(X[:,1:3])"
   ]
  },
  {
   "cell_type": "code",
   "execution_count": 500,
   "metadata": {},
   "outputs": [
    {
     "data": {
      "text/plain": [
       "array([[0, 44.0, 72000.0, 1.0, 0.0, 0.0],\n",
       "       [2, 27.0, 48000.0, 0.0, 0.0, 1.0],\n",
       "       [1, 30.0, 54000.0, 0.0, 1.0, 0.0],\n",
       "       [2, 38.0, 61000.0, 0.0, 0.0, 1.0],\n",
       "       [1, 40.0, 63777.77777777778, 0.0, 1.0, 0.0],\n",
       "       [0, 35.0, 58000.0, 1.0, 0.0, 0.0],\n",
       "       [2, 41.0, 52000.0, 0.0, 0.0, 1.0],\n",
       "       [0, 48.0, 79000.0, 1.0, 0.0, 0.0],\n",
       "       [1, 50.0, 83000.0, 0.0, 1.0, 0.0],\n",
       "       [0, 57.0, 67000.0, 1.0, 0.0, 0.0]], dtype=object)"
      ]
     },
     "execution_count": 500,
     "metadata": {},
     "output_type": "execute_result"
    }
   ],
   "source": [
    "#encoding the categorical features\n",
    "labelEncoder_X = LabelEncoder()\n",
    "labelEncoder_X.fit(X[:,0])\n",
    "X[:,0] = labelEncoder_X.transform(X[:,0])\n",
    "#converting catgorical data to column\n",
    "onehotencoder = OneHotEncoder()\n",
    "X = np.append(X,onehotencoder.fit_transform(X[:,0].reshape(-1, 1)).toarray()\n",
    ",axis=1) \n",
    "X"
   ]
  },
  {
   "cell_type": "code",
   "execution_count": 501,
   "metadata": {},
   "outputs": [],
   "source": [
    "X = np.delete(X,np.s_[0], axis = 1)"
   ]
  },
  {
   "cell_type": "code",
   "execution_count": 502,
   "metadata": {},
   "outputs": [
    {
     "data": {
      "text/plain": [
       "array([[44.0, 72000.0, 1.0, 0.0, 0.0],\n",
       "       [27.0, 48000.0, 0.0, 0.0, 1.0],\n",
       "       [30.0, 54000.0, 0.0, 1.0, 0.0],\n",
       "       [38.0, 61000.0, 0.0, 0.0, 1.0],\n",
       "       [40.0, 63777.77777777778, 0.0, 1.0, 0.0],\n",
       "       [35.0, 58000.0, 1.0, 0.0, 0.0],\n",
       "       [41.0, 52000.0, 0.0, 0.0, 1.0],\n",
       "       [48.0, 79000.0, 1.0, 0.0, 0.0],\n",
       "       [50.0, 83000.0, 0.0, 1.0, 0.0],\n",
       "       [57.0, 67000.0, 1.0, 0.0, 0.0]], dtype=object)"
      ]
     },
     "execution_count": 502,
     "metadata": {},
     "output_type": "execute_result"
    }
   ],
   "source": [
    "X"
   ]
  },
  {
   "cell_type": "code",
   "execution_count": 503,
   "metadata": {},
   "outputs": [],
   "source": [
    "labelencoder_y = LabelEncoder()\n",
    "y = labelencoder_y.fit_transform(y)"
   ]
  },
  {
   "cell_type": "code",
   "execution_count": 504,
   "metadata": {},
   "outputs": [
    {
     "data": {
      "text/plain": [
       "array([0, 1, 0, 0, 1, 1, 0, 1, 0, 1])"
      ]
     },
     "execution_count": 504,
     "metadata": {},
     "output_type": "execute_result"
    }
   ],
   "source": [
    "y"
   ]
  },
  {
   "cell_type": "code",
   "execution_count": null,
   "metadata": {},
   "outputs": [],
   "source": []
  }
 ],
 "metadata": {
  "kernelspec": {
   "display_name": "Python 3",
   "language": "python",
   "name": "python3"
  },
  "language_info": {
   "codemirror_mode": {
    "name": "ipython",
    "version": 3
   },
   "file_extension": ".py",
   "mimetype": "text/x-python",
   "name": "python",
   "nbconvert_exporter": "python",
   "pygments_lexer": "ipython3",
   "version": "3.7.4"
  }
 },
 "nbformat": 4,
 "nbformat_minor": 4
}
