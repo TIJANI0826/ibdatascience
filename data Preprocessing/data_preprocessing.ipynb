{
 "cells": [
  {
   "cell_type": "code",
   "execution_count": 429,
   "metadata": {},
   "outputs": [],
   "source": [
    "#import Machine learning packages\n",
    "import pandas as pd\n",
    "import numpy as np\n",
    "import matplotlib.pyplot as plt\n",
    "from sklearn.preprocessing import *\n",
    "from sklearn.impute import *"
   ]
  },
  {
   "cell_type": "code",
   "execution_count": 524,
   "metadata": {},
   "outputs": [
    {
     "data": {
      "text/plain": [
       "array([['France', 44.0, 72000.0],\n",
       "       ['Spain', 27.0, 48000.0],\n",
       "       ['Germany', 30.0, 54000.0],\n",
       "       ['Spain', 38.0, 61000.0],\n",
       "       ['Germany', 40.0, nan],\n",
       "       ['France', 35.0, 58000.0],\n",
       "       ['Spain', nan, 52000.0],\n",
       "       ['France', 48.0, 79000.0],\n",
       "       ['Germany', 50.0, 83000.0],\n",
       "       ['France', 57.0, 67000.0]], dtype=object)"
      ]
     },
     "execution_count": 524,
     "metadata": {},
     "output_type": "execute_result"
    }
   ],
   "source": [
    "#importing data\n",
    "data_set = pd.read_csv('data.csv')\n",
    "# independent feature\n",
    "X = data_set.iloc[:,:-1].values\n",
    "# dependent features\n",
    "y = data_set.iloc[:,3].values\n",
    "X"
   ]
  },
  {
   "cell_type": "code",
   "execution_count": 525,
   "metadata": {},
   "outputs": [],
   "source": [
    "# Fixing missing values\n",
    "imputer = SimpleImputer(missing_values=np.nan ,strategy=\"mean\")\n",
    "imputer = imputer.fit(X[:,1:3])\n",
    "X[:,1:3] = imputer.transform(X[:,1:3])"
   ]
  },
  {
   "cell_type": "code",
   "execution_count": 526,
   "metadata": {},
   "outputs": [
    {
     "data": {
      "text/plain": [
       "array([[0, 44.0, 72000.0, 1.0, 0.0, 0.0],\n",
       "       [2, 27.0, 48000.0, 0.0, 0.0, 1.0],\n",
       "       [1, 30.0, 54000.0, 0.0, 1.0, 0.0],\n",
       "       [2, 38.0, 61000.0, 0.0, 0.0, 1.0],\n",
       "       [1, 40.0, 63777.77777777778, 0.0, 1.0, 0.0],\n",
       "       [0, 35.0, 58000.0, 1.0, 0.0, 0.0],\n",
       "       [2, 41.0, 52000.0, 0.0, 0.0, 1.0],\n",
       "       [0, 48.0, 79000.0, 1.0, 0.0, 0.0],\n",
       "       [1, 50.0, 83000.0, 0.0, 1.0, 0.0],\n",
       "       [0, 57.0, 67000.0, 1.0, 0.0, 0.0]], dtype=object)"
      ]
     },
     "execution_count": 526,
     "metadata": {},
     "output_type": "execute_result"
    }
   ],
   "source": [
    "#encoding the categorical features\n",
    "labelEncoder_X = LabelEncoder()\n",
    "labelEncoder_X.fit(X[:,0])\n",
    "X[:,0] = labelEncoder_X.transform(X[:,0])\n",
    "#converting catgorical data to column\n",
    "onehotencoder = OneHotEncoder()\n",
    "X = np.append(X,onehotencoder.fit_transform(X[:,0].reshape(-1, 1)).toarray()\n",
    ",axis=1) \n",
    "X"
   ]
  },
  {
   "cell_type": "code",
   "execution_count": 527,
   "metadata": {},
   "outputs": [],
   "source": [
    "X = np.delete(X,np.s_[0], axis = 1)"
   ]
  },
  {
   "cell_type": "code",
   "execution_count": 528,
   "metadata": {},
   "outputs": [
    {
     "data": {
      "text/plain": [
       "array([[44.0, 72000.0, 1.0, 0.0, 0.0],\n",
       "       [27.0, 48000.0, 0.0, 0.0, 1.0],\n",
       "       [30.0, 54000.0, 0.0, 1.0, 0.0],\n",
       "       [38.0, 61000.0, 0.0, 0.0, 1.0],\n",
       "       [40.0, 63777.77777777778, 0.0, 1.0, 0.0],\n",
       "       [35.0, 58000.0, 1.0, 0.0, 0.0],\n",
       "       [41.0, 52000.0, 0.0, 0.0, 1.0],\n",
       "       [48.0, 79000.0, 1.0, 0.0, 0.0],\n",
       "       [50.0, 83000.0, 0.0, 1.0, 0.0],\n",
       "       [57.0, 67000.0, 1.0, 0.0, 0.0]], dtype=object)"
      ]
     },
     "execution_count": 528,
     "metadata": {},
     "output_type": "execute_result"
    }
   ],
   "source": [
    "X"
   ]
  },
  {
   "cell_type": "code",
   "execution_count": 529,
   "metadata": {},
   "outputs": [],
   "source": [
    "labelencoder_y = LabelEncoder()\n",
    "y = labelencoder_y.fit_transform(y)"
   ]
  },
  {
   "cell_type": "code",
   "execution_count": 530,
   "metadata": {},
   "outputs": [
    {
     "data": {
      "text/plain": [
       "array([0, 1, 0, 0, 1, 1, 0, 1, 0, 1])"
      ]
     },
     "execution_count": 530,
     "metadata": {},
     "output_type": "execute_result"
    }
   ],
   "source": [
    "y"
   ]
  },
  {
   "cell_type": "code",
   "execution_count": 531,
   "metadata": {},
   "outputs": [],
   "source": [
    "from sklearn.model_selection import train_test_split\n",
    "X_train, X_test,y_train, y_test = train_test_split(X,y,test_size = 0.2,random_state = 0)"
   ]
  },
  {
   "cell_type": "code",
   "execution_count": 532,
   "metadata": {},
   "outputs": [
    {
     "data": {
      "text/plain": [
       "array([[40.0, 63777.77777777778, 0.0, 1.0, 0.0],\n",
       "       [57.0, 67000.0, 1.0, 0.0, 0.0],\n",
       "       [27.0, 48000.0, 0.0, 0.0, 1.0],\n",
       "       [41.0, 52000.0, 0.0, 0.0, 1.0],\n",
       "       [48.0, 79000.0, 1.0, 0.0, 0.0],\n",
       "       [38.0, 61000.0, 0.0, 0.0, 1.0],\n",
       "       [44.0, 72000.0, 1.0, 0.0, 0.0],\n",
       "       [35.0, 58000.0, 1.0, 0.0, 0.0]], dtype=object)"
      ]
     },
     "execution_count": 532,
     "metadata": {},
     "output_type": "execute_result"
    }
   ],
   "source": [
    "X_train"
   ]
  },
  {
   "cell_type": "code",
   "execution_count": 533,
   "metadata": {},
   "outputs": [
    {
     "data": {
      "text/plain": [
       "array([1, 1, 1, 0, 1, 0, 0, 1])"
      ]
     },
     "execution_count": 533,
     "metadata": {},
     "output_type": "execute_result"
    }
   ],
   "source": [
    "y_train"
   ]
  },
  {
   "cell_type": "code",
   "execution_count": 534,
   "metadata": {},
   "outputs": [
    {
     "data": {
      "text/plain": [
       "array([[30.0, 54000.0, 0.0, 1.0, 0.0],\n",
       "       [50.0, 83000.0, 0.0, 1.0, 0.0]], dtype=object)"
      ]
     },
     "execution_count": 534,
     "metadata": {},
     "output_type": "execute_result"
    }
   ],
   "source": [
    "X_test"
   ]
  },
  {
   "cell_type": "code",
   "execution_count": 535,
   "metadata": {},
   "outputs": [
    {
     "data": {
      "text/plain": [
       "array([0, 0])"
      ]
     },
     "execution_count": 535,
     "metadata": {},
     "output_type": "execute_result"
    }
   ],
   "source": [
    "y_test"
   ]
  },
  {
   "cell_type": "code",
   "execution_count": 536,
   "metadata": {},
   "outputs": [],
   "source": [
    "# feature scaling with StandardScaler\n",
    "sc_X = StandardScaler()\n",
    "X_train = sc_X.fit_transform(X_train)\n",
    "X_test = sc_X.transform(X_test)"
   ]
  },
  {
   "cell_type": "code",
   "execution_count": 538,
   "metadata": {},
   "outputs": [
    {
     "data": {
      "text/plain": [
       "array([[-0.1500075 ,  0.12381479, -1.        ,  2.64575131, -0.77459667],\n",
       "       [ 1.89009451,  0.46175632,  1.        , -0.37796447, -0.77459667],\n",
       "       [-1.71008551, -1.53093341, -1.        , -0.37796447,  1.29099445],\n",
       "       [-0.0300015 , -1.11141978, -1.        , -0.37796447,  1.29099445],\n",
       "       [ 0.8100405 ,  1.7202972 ,  1.        , -0.37796447, -0.77459667],\n",
       "       [-0.3900195 , -0.16751412, -1.        , -0.37796447,  1.29099445],\n",
       "       [ 0.3300165 ,  0.98614835,  1.        , -0.37796447, -0.77459667],\n",
       "       [-0.7500375 , -0.48214934,  1.        , -0.37796447, -0.77459667]])"
      ]
     },
     "execution_count": 538,
     "metadata": {},
     "output_type": "execute_result"
    }
   ],
   "source": [
    "X_train"
   ]
  },
  {
   "cell_type": "code",
   "execution_count": 539,
   "metadata": {},
   "outputs": [
    {
     "data": {
      "text/plain": [
       "array([[-1.35006751, -0.90166297, -1.        ,  2.64575131, -0.77459667],\n",
       "       [ 1.0500525 ,  2.13981082, -1.        ,  2.64575131, -0.77459667]])"
      ]
     },
     "execution_count": 539,
     "metadata": {},
     "output_type": "execute_result"
    }
   ],
   "source": [
    "X_test"
   ]
  },
  {
   "cell_type": "code",
   "execution_count": null,
   "metadata": {},
   "outputs": [],
   "source": []
  }
 ],
 "metadata": {
  "kernelspec": {
   "display_name": "Python 3",
   "language": "python",
   "name": "python3"
  },
  "language_info": {
   "codemirror_mode": {
    "name": "ipython",
    "version": 3
   },
   "file_extension": ".py",
   "mimetype": "text/x-python",
   "name": "python",
   "nbconvert_exporter": "python",
   "pygments_lexer": "ipython3",
   "version": "3.7.4"
  }
 },
 "nbformat": 4,
 "nbformat_minor": 4
}
